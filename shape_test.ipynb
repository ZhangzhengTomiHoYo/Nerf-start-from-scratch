{
 "cells": [
  {
   "cell_type": "code",
   "id": "initial_id",
   "metadata": {
    "collapsed": true,
    "ExecuteTime": {
     "end_time": "2024-10-31T11:47:50.803464Z",
     "start_time": "2024-10-31T11:47:50.716251Z"
    }
   },
   "source": [
    "import numpy as np\n",
    "\n",
    "from loadData import poses"
   ],
   "outputs": [],
   "execution_count": 1
  },
  {
   "metadata": {
    "ExecuteTime": {
     "end_time": "2024-11-01T13:11:35.985563Z",
     "start_time": "2024-11-01T13:11:35.969613Z"
    }
   },
   "cell_type": "code",
   "source": [
    "def get():\n",
    "    a = np.random.rand(24, 24, 3)\n",
    "    b = np.random.rand(24, 24, 3)\n",
    "    return a, b \n",
    "c = np.stack(get(), axis=0)\n",
    "d = np.stack([get()],axis=0)"
   ],
   "id": "2c66a02340cd25c8",
   "outputs": [],
   "execution_count": 28
  },
  {
   "metadata": {
    "ExecuteTime": {
     "end_time": "2024-11-01T13:11:50.117449Z",
     "start_time": "2024-11-01T13:11:50.101384Z"
    }
   },
   "cell_type": "code",
   "source": "c.shape",
   "id": "af8c258834b326cb",
   "outputs": [
    {
     "data": {
      "text/plain": [
       "(2, 24, 24, 3)"
      ]
     },
     "execution_count": 30,
     "metadata": {},
     "output_type": "execute_result"
    }
   ],
   "execution_count": 30
  },
  {
   "metadata": {
    "ExecuteTime": {
     "end_time": "2024-11-01T13:11:50.520026Z",
     "start_time": "2024-11-01T13:11:50.504064Z"
    }
   },
   "cell_type": "code",
   "source": "d.shape",
   "id": "b0b314c7c3b3a168",
   "outputs": [
    {
     "data": {
      "text/plain": [
       "(1, 2, 24, 24, 3)"
      ]
     },
     "execution_count": 31,
     "metadata": {},
     "output_type": "execute_result"
    }
   ],
   "execution_count": 31
  },
  {
   "metadata": {
    "ExecuteTime": {
     "end_time": "2024-11-01T12:13:32.548266Z",
     "start_time": "2024-11-01T12:13:32.541979Z"
    }
   },
   "cell_type": "code",
   "source": "",
   "id": "37000f6b5030b768",
   "outputs": [],
   "execution_count": null
  },
  {
   "metadata": {
    "ExecuteTime": {
     "end_time": "2024-11-01T12:13:32.938197Z",
     "start_time": "2024-11-01T12:13:32.933171Z"
    }
   },
   "cell_type": "code",
   "source": "",
   "id": "8687ab36f2db0029",
   "outputs": [],
   "execution_count": null
  },
  {
   "metadata": {
    "ExecuteTime": {
     "end_time": "2024-11-01T12:16:21.021427Z",
     "start_time": "2024-11-01T12:16:20.998360Z"
    }
   },
   "cell_type": "code",
   "source": [
    "# RGBA -> RGB + alpha透明度通道\n",
    "path = './lego/train/r_0.png'\n",
    "from PIL import Image\n",
    "img = Image.open(path)\n",
    "import numpy as np\n",
    "img_nd = np.array(img)\n",
    "print('img_nd.shape:',img_nd.shape)"
   ],
   "id": "440ce0ae6913ad3c",
   "outputs": [
    {
     "name": "stdout",
     "output_type": "stream",
     "text": [
      "img_nd.shape: (800, 800, 4)\n"
     ]
    }
   ],
   "execution_count": 11
  },
  {
   "metadata": {
    "ExecuteTime": {
     "end_time": "2024-11-01T12:18:30.369798Z",
     "start_time": "2024-11-01T12:18:30.366809Z"
    }
   },
   "cell_type": "code",
   "source": "",
   "id": "f6341339b0a41078",
   "outputs": [],
   "execution_count": null
  },
  {
   "metadata": {
    "ExecuteTime": {
     "end_time": "2024-11-01T12:18:30.572190Z",
     "start_time": "2024-11-01T12:18:30.567206Z"
    }
   },
   "cell_type": "code",
   "source": "",
   "id": "7685cfa063912ae1",
   "outputs": [],
   "execution_count": null
  },
  {
   "metadata": {
    "ExecuteTime": {
     "end_time": "2024-11-01T12:25:59.451634Z",
     "start_time": "2024-11-01T12:25:59.437603Z"
    }
   },
   "cell_type": "code",
   "source": [
    "# 切片方式不同 shape不同\n",
    "import torch\n",
    "data = torch.arange(800).reshape(50,4,4)\n",
    "print(f'data.shape:{data.shape}')\n",
    "data_0 = data[:,:4,:4]\n",
    "print(f'data_0.shape:{data_0.shape}')"
   ],
   "id": "ce44497d4d1f4a8d",
   "outputs": [
    {
     "name": "stdout",
     "output_type": "stream",
     "text": [
      "data.shape:torch.Size([50, 4, 4])\n",
      "data_0.shape:torch.Size([50, 4, 4])\n"
     ]
    }
   ],
   "execution_count": 21
  },
  {
   "metadata": {
    "ExecuteTime": {
     "end_time": "2024-11-01T12:29:21.910803Z",
     "start_time": "2024-11-01T12:29:21.893860Z"
    }
   },
   "cell_type": "code",
   "source": [
    "poses = torch.arange(800).reshape(50,4,4)\n",
    "for p in poses[:,:3,:4]:\n",
    "    print(p.shape)\n",
    "    break"
   ],
   "id": "b0ab3127acbbc999",
   "outputs": [
    {
     "name": "stdout",
     "output_type": "stream",
     "text": [
      "torch.Size([3, 4])\n"
     ]
    }
   ],
   "execution_count": 23
  },
  {
   "metadata": {
    "ExecuteTime": {
     "end_time": "2024-11-01T12:32:10.284215Z",
     "start_time": "2024-11-01T12:32:10.280228Z"
    }
   },
   "cell_type": "code",
   "source": "",
   "id": "d967882ece29891d",
   "outputs": [],
   "execution_count": null
  },
  {
   "metadata": {
    "ExecuteTime": {
     "end_time": "2024-11-01T12:32:10.549281Z",
     "start_time": "2024-11-01T12:32:10.544299Z"
    }
   },
   "cell_type": "code",
   "source": "",
   "id": "30058833252c481f",
   "outputs": [],
   "execution_count": null
  },
  {
   "metadata": {
    "ExecuteTime": {
     "end_time": "2024-11-01T12:38:34.912179Z",
     "start_time": "2024-11-01T12:38:34.872312Z"
    }
   },
   "cell_type": "code",
   "source": [
    "# 乘法 \n",
    "import torch\n",
    "\n",
    "dirs = torch.rand(800, 800, 1, 3)\n",
    "c2w = torch.rand(3, 3)\n",
    "mul = dirs * c2w\n",
    "print(dirs.shape)  # 输出 torch.Size([800, 800, 1, 3])\n",
    "print(c2w.shape)\n",
    "print(mul.shape)"
   ],
   "id": "52da5e4c30fd8941",
   "outputs": [
    {
     "name": "stdout",
     "output_type": "stream",
     "text": [
      "torch.Size([800, 800, 1, 3])\n",
      "torch.Size([3, 3])\n",
      "torch.Size([800, 800, 3, 3])\n"
     ]
    }
   ],
   "execution_count": 27
  },
  {
   "metadata": {},
   "cell_type": "code",
   "outputs": [],
   "execution_count": null,
   "source": "",
   "id": "481ff859e87d9d82"
  }
 ],
 "metadata": {
  "kernelspec": {
   "display_name": "Python 3",
   "language": "python",
   "name": "python3"
  },
  "language_info": {
   "codemirror_mode": {
    "name": "ipython",
    "version": 2
   },
   "file_extension": ".py",
   "mimetype": "text/x-python",
   "name": "python",
   "nbconvert_exporter": "python",
   "pygments_lexer": "ipython2",
   "version": "2.7.6"
  }
 },
 "nbformat": 4,
 "nbformat_minor": 5
}
